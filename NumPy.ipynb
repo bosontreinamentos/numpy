{
 "cells": [
  {
   "cell_type": "markdown",
   "metadata": {},
   "source": [
    "# NumPy\n",
    "\n",
    "## Numerical Python\n",
    "\n",
    "Biblioteca de código aberto criada em 2006, é é um pacote fundamental extensivamente empregado para computação numérica e científca de alta performance e velocidade em Python. Escrita em linguagem C, é a implementação de estruturas de dados do tipo arrays preferida em Python, fornecendo um tipo de array de alta performance chamado de **ndarray**.\n",
    "\n",
    "As operações sobre arrays do NumPy chegam a ser até duas ordens de magnitude mais rápidas do que om o emprego de listas comuns em Python, o que certamente é uma grande vantagem quando pensamos em grandes volumes de dados a serem manipulados e analisados, por exemplo em aplicações para Big Data e Computação Numérica.\n",
    "\n",
    "O NumPy trabalha com um objeto de array de N dimensões poderoso chamado de *ndarray* (N-Dimensional Array / Array de N Dimensões), e possui diversas funções e métodos para sua manipulação, além de ouros tipos de objetos como masked arrays e matrizes, dos quais trataremos futuramente.\n",
    "\n",
    "Muitas bibliotecas populares e altamente importantes dependem do NumPy para operar, como por exemplo as bibliotecas SciPy (para computação científica), Pandas (Análise de Dados), OpenCV, Scikit-learn e Keras (Machine Learning / Deep Learning), entre centenas de outras bibliotecas.\n"
   ]
  },
  {
   "cell_type": "markdown",
   "metadata": {},
   "source": [
    "## Módulo NumPy\n",
    "\n",
    "O módulo NumPy fornece diversas funções para criação e manipulação de arrays. Os elementos em um array podem ser acessados por meio de seus números de índice (posição), e os índices de arrays iniciam sua contagem em 0, de modo que o primeiro elemento armazenado é o elemento de índice 0, o segundo elemento é o elemento de índice 1, e assim por diante."
   ]
  },
  {
   "cell_type": "code",
   "execution_count": 8,
   "metadata": {},
   "outputs": [
    {
     "name": "stdout",
     "output_type": "stream",
     "text": [
      "<class 'numpy.ndarray'>\n",
      "[  4   8  16  32  64 128]\n",
      "4\n",
      "8\n",
      "16\n",
      "128\n"
     ]
    }
   ],
   "source": [
    "# Criar arrays a partir de dados existentes\n",
    "\n",
    "# Importar o módulo numpy. Recomenda-se importá-lo como \"np\", de acordo com a documentação oficial, para padronização.\n",
    "import numpy as np\n",
    "\n",
    "# Criar um array (objeto ndarray) de nome \"números\" a partir de uma lista de valores com o método np.array()\n",
    "números = np.array([4,8,16,32,64,128])\n",
    "\n",
    "# Opcionalmente, podemos especificar o tipo de dado dos objetos do array com um segundo parâmetro:\n",
    "# números = np.array([4,8,16,32,64,128], np.int16) # Elementos do tipo Int 16 bits.\n",
    "\n",
    "# Ver o tipo do objeto criado\n",
    "print(type(números))\n",
    "\n",
    "# Ver o conteúdo do array (valores alinhados à direita, ocupando o mesmo número de casas de acordo com o maior número presente)\n",
    "print(números)\n",
    "\n",
    "# Ver elementos específicos no array por meio de seus índices\n",
    "print(números[0]); print(números[1]); print(números[2]); print(números[-1])"
   ]
  },
  {
   "cell_type": "markdown",
   "metadata": {},
   "source": [
    "## Tipos de Dados comuns no NumPy\n",
    "\n",
    "| Tipo NumPy                | Descrição                                                                             |\n",
    "|---------------------------|---------------------------------------------------------------------------------------|\n",
    "| np.int8                   | Byte (-128 a 127)                                                                     |\n",
    "| np.int16                  | Inteiro (-32768 a 32767)                                                              |\n",
    "| np.int32                  | Inteiro (-2147483648 a 2147483647)                                                    |\n",
    "| np.int64                  | Inteiro (-9223372036854775808 a 9223372036854775807)                                  |\n",
    "| np.uint8                  | Inteiro sem sinal (0 a 255)                                                           |\n",
    "| np.uint16                 | Inteiro sem sinal (0 a 65535)                                                         |\n",
    "| np.uint32                 | Inteiro sem sinal (0 a 4294967295)                                                    |\n",
    "| np.uint64                 | Inteiro sem sinal (0 a 18446744073709551615)                                          |\n",
    "| np.float32                | Ponto flutuante de 32 bits                                                            |\n",
    "| np.float64 np.float_      | Double                                                                                |\n",
    "| np.complex64              | Número complexo, representado por dois floats de 32 bits (partes real e imaginária)   |\n",
    "| np.complex128 np.complex_ | Número complexo de precisão dupla (corresponde à precisão do tipo complexo em Python) |"
   ]
  },
  {
   "cell_type": "code",
   "execution_count": 12,
   "metadata": {},
   "outputs": [
    {
     "name": "stdout",
     "output_type": "stream",
     "text": [
      "[[1 4 5]\n",
      " [3 5 2]\n",
      " [5 6 0]]\n"
     ]
    }
   ],
   "source": [
    "# Criar um array bidimensional a partir de uma matriz (lista de duas dimensões)\n",
    "\n",
    "matriz = np.array([[1,4,5],[3,5,2],[5,6,0]]) # Cada colchete aninhado representa uma dimensão do array\n",
    "print(matriz)"
   ]
  },
  {
   "cell_type": "code",
   "execution_count": 10,
   "metadata": {
    "scrolled": false
   },
   "outputs": [
    {
     "name": "stdout",
     "output_type": "stream",
     "text": [
      "Array tridimensional:\n",
      "  [[[1 4 7]\n",
      "  [3 5 2]]\n",
      "\n",
      " [[5 6 0]\n",
      "  [7 4 1]]\n",
      "\n",
      " [[2 8 8]\n",
      "  [0 3 6]]]\n",
      "\n",
      "Item na posição 0,0,0:  1\n",
      "Item na posição 1,0,0:  5\n",
      "Item na posição 2,0,0:  2\n"
     ]
    }
   ],
   "source": [
    "# Criar um array tridimensional (lista de três dimensões)\n",
    "\n",
    "cubo = np.array([[[1,4,7],[3,5,2]],[[5,6,0],[7,4,1]],[[2,8,8],[0,3,6]]]) # Cada colchete aninhado representa uma dimensão do array\n",
    "print('Array tridimensional:\\n ', cubo)\n",
    "\n",
    "# Visualizar elementos específicos do cubo (array tridimensional)\n",
    "print('\\nItem na posição 0,0,0: ', cubo[0,0,0])\n",
    "print('Item na posição 1,0,0: ', cubo[1,0,0])\n",
    "print('Item na posição 2,0,0: ', cubo[2,0,0])"
   ]
  },
  {
   "cell_type": "code",
   "execution_count": 11,
   "metadata": {
    "scrolled": true
   },
   "outputs": [
    {
     "name": "stdout",
     "output_type": "stream",
     "text": [
      "[  0   2   4   6   8  10  12  14  16  18  20  22  24  26  28  30  32  34\n",
      "  36  38  40  42  44  46  48  50  52  54  56  58  60  62  64  66  68  70\n",
      "  72  74  76  78  80  82  84  86  88  90  92  94  96  98 100]\n"
     ]
    }
   ],
   "source": [
    "# Criar um array com os números pares de 0 a 100:\n",
    "pares = np.array([n for n in range(0,101,2)])\n",
    "print(pares)"
   ]
  },
  {
   "cell_type": "code",
   "execution_count": 9,
   "metadata": {},
   "outputs": [
    {
     "data": {
      "text/plain": [
       "dtype('int32')"
      ]
     },
     "execution_count": 9,
     "metadata": {},
     "output_type": "execute_result"
    }
   ],
   "source": [
    "# Verificar o tipo de elemento do array: atributo dtype\n",
    "números.dtype"
   ]
  },
  {
   "cell_type": "code",
   "execution_count": 13,
   "metadata": {},
   "outputs": [
    {
     "name": "stdout",
     "output_type": "stream",
     "text": [
      "Dimensões do array números:  1\n",
      "Dimensões dda matriz:  2\n"
     ]
    }
   ],
   "source": [
    "# Determinar o número de dimensões de um array: atributo ndim\n",
    "\n",
    "print('Dimensões do array números: ', números.ndim)\n",
    "print('Dimensões da matriz: ', matriz.ndim)"
   ]
  },
  {
   "cell_type": "code",
   "execution_count": 14,
   "metadata": {},
   "outputs": [
    {
     "name": "stdout",
     "output_type": "stream",
     "text": [
      "Tamanho do array números:  (6,)\n",
      "Tamanho da matriz x:  (3, 3)\n"
     ]
    }
   ],
   "source": [
    "# Determinar as dimensões de um array: atributo shape (tamanho do array)\n",
    "\n",
    "print('Tamanho do array números: ', números.shape)\n",
    "print('Tamanho da matriz: ', matriz.shape)"
   ]
  },
  {
   "cell_type": "code",
   "execution_count": 15,
   "metadata": {},
   "outputs": [
    {
     "name": "stdout",
     "output_type": "stream",
     "text": [
      "Total de elementos do array números:  6\n",
      "Toatl de elementos da matriz x:  9\n"
     ]
    }
   ],
   "source": [
    "# Número total de elementos de um array: atributo size\n",
    "print('Total de elementos do array números: ', números.size)\n",
    "print('Total de elementos da matriz: ', matriz.size)"
   ]
  },
  {
   "cell_type": "code",
   "execution_count": 17,
   "metadata": {},
   "outputs": [
    {
     "name": "stdout",
     "output_type": "stream",
     "text": [
      "4\n",
      "4\n"
     ]
    }
   ],
   "source": [
    "# Tamanho dos elementos de um array (número de bytes necessário para armazenamento): atributo itemsize\n",
    "print(números.itemsize)\n",
    "print(matriz.itemsize)"
   ]
  },
  {
   "cell_type": "code",
   "execution_count": 20,
   "metadata": {},
   "outputs": [
    {
     "name": "stdout",
     "output_type": "stream",
     "text": [
      "1 4 5 3 5 2 5 6 0 "
     ]
    }
   ],
   "source": [
    "# Iteração: iterar por um array multidimensional como se ele fosse unidimensional - atributo flat\n",
    "for i in matriz.flat:\n",
    "    print(i, end=' ') # end=' ' é usado para mostrar os valores em uma única linha, em vez de um por linha"
   ]
  },
  {
   "cell_type": "code",
   "execution_count": 16,
   "metadata": {},
   "outputs": [
    {
     "name": "stdout",
     "output_type": "stream",
     "text": [
      "1 2 3 6 4 2 "
     ]
    }
   ],
   "source": [
    "x = np.array([[1,2,3],[6,4,2]], np.int16)\n",
    "for i in x.flat:\n",
    "    print(i, end=' ')"
   ]
  },
  {
   "cell_type": "markdown",
   "metadata": {},
   "source": [
    "## Preencher arrays com valores específicos\n",
    "\n",
    "Com as funções zeros, ones e full podemos criar arrays preenchidos automaticamente com zeros, uns ou um valor numérico especificado, respectivamente.\n",
    "\n",
    "Os métodos zeros e ones produzem valores do tipo float64 por padrão, mas podemos alterar o tipo de dado se necessário."
   ]
  },
  {
   "cell_type": "code",
   "execution_count": 21,
   "metadata": {},
   "outputs": [
    {
     "name": "stdout",
     "output_type": "stream",
     "text": [
      "[0. 0. 0. 0. 0. 0. 0. 0. 0. 0.]\n",
      "[1. 1. 1. 1. 1. 1. 1. 1. 1. 1. 1. 1. 1. 1. 1.]\n",
      "[12 12 12 12 12 12 12 12]\n"
     ]
    }
   ],
   "source": [
    "# Criar array com 10 elementos iguais a 0\n",
    "print(np.zeros(10))\n",
    "\n",
    "# Criar array com 15 elementos iguais a 1\n",
    "print(np.ones(15))\n",
    "\n",
    "# Criar array com 8 elementos iguais a 12 (int)\n",
    "print(np.full(8,12))  # primeiro argumento: núm. de elementos."
   ]
  },
  {
   "cell_type": "code",
   "execution_count": 23,
   "metadata": {},
   "outputs": [
    {
     "name": "stdout",
     "output_type": "stream",
     "text": [
      "[0 0 0 0 0 0 0 0 0 0]\n",
      "[1 1 1 1 1 1 1 1 1 1 1 1 1 1 1]\n",
      "[12. 12. 12. 12. 12. 12. 12. 12.]\n"
     ]
    }
   ],
   "source": [
    "# Criar array com 10 elementos iguais a 0, tipo inteiro\n",
    "print(np.zeros(10, dtype=int))\n",
    "\n",
    "# Criar array com 15 elementos iguais a 1, tipo inteiro\n",
    "print(np.ones(15, dtype=int))\n",
    "\n",
    "# Criar array com 8 elementos iguais a 12, tipo ponto flutuante\n",
    "print(np.full(8,12, dtype=float))  # primeiro argumento: núm. de elementos."
   ]
  },
  {
   "cell_type": "code",
   "execution_count": 28,
   "metadata": {},
   "outputs": [
    {
     "name": "stdout",
     "output_type": "stream",
     "text": [
      "[[0 0 0 0 0]\n",
      " [0 0 0 0 0]]\n"
     ]
    }
   ],
   "source": [
    "# Criar array bidimensional 2x5 preenchido com zeros, tipo inteiro:\n",
    "print(np.zeros((2, 5),dtype=int))"
   ]
  },
  {
   "cell_type": "code",
   "execution_count": 37,
   "metadata": {},
   "outputs": [
    {
     "name": "stdout",
     "output_type": "stream",
     "text": [
      "[0 1 2 3 4 5 6 7 8 9]\n",
      "[0. 1. 2. 3. 4. 5. 6. 7. 8. 9.]\n",
      "[ 5  6  7  8  9 10 11 12 13 14 15]\n",
      "[50 48 46 44 42 40 38 36 34 32 30 28 26 24 22 20 18 16 14 12 10  8  6  4\n",
      "  2]\n"
     ]
    }
   ],
   "source": [
    "# Criar array a partir de faixas de valores: método arange\n",
    "\n",
    "# Array de 10 elementos, números de 0 a 9\n",
    "print(np.arange(10))\n",
    "\n",
    "# Array de 10 elementos float, números de 0 a 9\n",
    "print(np.arange(10.))\n",
    "\n",
    "# Array com valores no intervalo de 5 a 15\n",
    "print(np.arange(5,16))\n",
    "\n",
    "# Array com os números pares de 50 até 1\n",
    "print(np.arange(50, 1, -2))"
   ]
  },
  {
   "cell_type": "code",
   "execution_count": 35,
   "metadata": {},
   "outputs": [
    {
     "name": "stdout",
     "output_type": "stream",
     "text": [
      "[0.  0.5 1.  1.5 2. ]\n"
     ]
    }
   ],
   "source": [
    "# Criar array com valores de ponto flutuante com o método linspace\n",
    "\n",
    "print(np.linspace(0.0,2.0,num=5))\n",
    "# primeiro argumento: valor inicial\n",
    "# segundo argumento: valor final\n",
    "# terceiro argumento (num): quantidade de itens a gerar"
   ]
  },
  {
   "cell_type": "code",
   "execution_count": 40,
   "metadata": {},
   "outputs": [
    {
     "name": "stdout",
     "output_type": "stream",
     "text": [
      "[[10 12 14 16]\n",
      " [18 20 22 24]\n",
      " [26 28 30 32]\n",
      " [34 36 38 40]\n",
      " [42 44 46 48]]\n"
     ]
    }
   ],
   "source": [
    "# Criar array unidimensional e transformá-lo em bidimensional: método reshape\n",
    "print(np.arange(10,50,2).reshape(5,4)) # array 5x4"
   ]
  },
  {
   "cell_type": "markdown",
   "metadata": {},
   "source": [
    "## Verificar performance de arrays NumPy vs listas\n",
    "\n",
    "Usando o comando **%timeit magic** do IPython, que contabiliza a duração média de operações."
   ]
  },
  {
   "cell_type": "code",
   "execution_count": 42,
   "metadata": {
    "scrolled": true
   },
   "outputs": [
    {
     "name": "stdout",
     "output_type": "stream",
     "text": [
      "10.3 s ± 183 ms per loop (mean ± std. dev. of 7 runs, 1 loop each)\n"
     ]
    }
   ],
   "source": [
    "# Medir tempo para criação de uma lista comum com 10 milhões de itens\n",
    "import random\n",
    "\n",
    "%timeit teste = [random.randrange(1,10) for i in range(0, 10000000)]"
   ]
  },
  {
   "cell_type": "code",
   "execution_count": 43,
   "metadata": {},
   "outputs": [
    {
     "name": "stdout",
     "output_type": "stream",
     "text": [
      "153 ms ± 15.4 ms per loop (mean ± std. dev. of 7 runs, 10 loops each)\n"
     ]
    }
   ],
   "source": [
    "# Medir tempo para criação de um array NumPy com 10 milhões de itens\n",
    "import numpy as np\n",
    "\n",
    "%timeit teste = np.random.randint(1,10,10000000)"
   ]
  },
  {
   "cell_type": "code",
   "execution_count": 50,
   "metadata": {},
   "outputs": [
    {
     "name": "stdout",
     "output_type": "stream",
     "text": [
      "439 ms ± 31.1 ms per loop (mean ± std. dev. of 7 runs, 1 loop each)\n"
     ]
    }
   ],
   "source": [
    "# Medir tempo para criação e soma de valores de uma lista comum com 5 milhões de itens\n",
    "\n",
    "%timeit sum([n for n in range(5000000)])"
   ]
  },
  {
   "cell_type": "code",
   "execution_count": 51,
   "metadata": {},
   "outputs": [
    {
     "name": "stdout",
     "output_type": "stream",
     "text": [
      "11.5 ms ± 1.27 ms per loop (mean ± std. dev. of 7 runs, 100 loops each)\n"
     ]
    }
   ],
   "source": [
    "# Medir tempo para criação e soma de valores de um array NumPy com 5 milhões de itens\n",
    "\n",
    "%timeit np.arange(5000000).sum()"
   ]
  },
  {
   "cell_type": "markdown",
   "metadata": {},
   "source": [
    "## Operações aritméticas com arrays\n",
    "\n",
    "É possível realizar diversas operações aritméticas sobre arrays, com o emprego de operadores variados. Vamos estudar aritmética simples com alguns exemplos de operações entre arrays e valores escalares, e entre arrays de mesmas dimensões.\n",
    "\n",
    "Iniciamos criando um array para testes, de nome valores, contendo números de 1 a 10."
   ]
  },
  {
   "cell_type": "code",
   "execution_count": 52,
   "metadata": {},
   "outputs": [
    {
     "name": "stdout",
     "output_type": "stream",
     "text": [
      "[ 1  2  3  4  5  6  7  8  9 10]\n"
     ]
    }
   ],
   "source": [
    "import numpy as np\n",
    "\n",
    "valores = np.arange(1,11)\n",
    "print(valores)"
   ]
  },
  {
   "cell_type": "code",
   "execution_count": 54,
   "metadata": {},
   "outputs": [
    {
     "name": "stdout",
     "output_type": "stream",
     "text": [
      "[ 5 10 15 20 25 30 35 40 45 50]\n",
      "[   1    8   27   64  125  216  343  512  729 1000]\n",
      "[ 1  2  3  4  5  6  7  8  9 10]\n",
      "[11 12 13 14 15 16 17 18 19 20]\n"
     ]
    }
   ],
   "source": [
    "# Vamos realizar operações aritméticas com os valores do array: multiplicação e exponenciação\n",
    "\n",
    "print(valores * 5)\n",
    "print(valores ** 3)\n",
    "\n",
    "# As operações são efetuadas para cada valor presente no array, individualmente. Essa operação se chama broadcasting.\n",
    "# O array em si permanece inalterado:\n",
    "print(valores)\n",
    "\n",
    "# Porém é modificado por operações cumulativas, como incremento:\n",
    "valores += 10\n",
    "print(valores)"
   ]
  },
  {
   "cell_type": "markdown",
   "metadata": {},
   "source": [
    "### Operações aritméticas entre arrays\n",
    "\n",
    "É possível efetuar operações aritméticas entre arrays que tenham as mesmas dimensões (shape). Por exemplo, vamos efetuar a multiplicação entre dois arrays unidimensionais de 4 elementos cada.\n",
    "\n",
    "O resultado será um novo array formado pela multiplicação de cada elemento no primeiro array pelo elemento na posição correspondente no segundo array:"
   ]
  },
  {
   "cell_type": "code",
   "execution_count": 55,
   "metadata": {},
   "outputs": [
    {
     "name": "stdout",
     "output_type": "stream",
     "text": [
      "[ 2  8 18 32]\n"
     ]
    }
   ],
   "source": [
    "# Multiplicação de arrays\n",
    "\n",
    "val1 = np.array([2,4,6,8])\n",
    "val2 = np.array([1,2,3,4])\n",
    "\n",
    "print(val1 * val2)"
   ]
  },
  {
   "cell_type": "markdown",
   "metadata": {},
   "source": [
    "### Efetuar operações matemáticas comuns\n",
    "\n",
    "Podemos também efetuar diversas operações matemáticas comuns sobre os elementos de um array, como determinar o maior e menor valor, somatório, média, valores estatísticos, etc.\n",
    "\n",
    "Considere o seguinte exemplo:"
   ]
  },
  {
   "cell_type": "code",
   "execution_count": 57,
   "metadata": {},
   "outputs": [
    {
     "name": "stdout",
     "output_type": "stream",
     "text": [
      "46\n",
      "6.571428571428571\n",
      "11\n",
      "2\n",
      "3.0169588688489823\n",
      "9.102040816326532\n"
     ]
    }
   ],
   "source": [
    "# Aplicando funções sobre um array\n",
    "\n",
    "val = np.array([2,4,5,6,8,10,11])\n",
    "\n",
    "# Somatório do array\n",
    "print(val.sum())\n",
    "\n",
    "# Média aritmética dos valores do array\n",
    "print(val.mean())\n",
    "\n",
    "# Maior valor presente no array\n",
    "print(val.max())\n",
    "\n",
    "# Menor valor presente no array\n",
    "print(val.min())\n",
    "\n",
    "# Desvio-padrão do array\n",
    "print(val.std())\n",
    "\n",
    "# Variância do array\n",
    "print(val.var())"
   ]
  },
  {
   "cell_type": "markdown",
   "metadata": {},
   "source": [
    "## Operações em linhas ou colunas\n",
    "\n",
    "É possível efetuar operações em linhas ou colunas inteiras de um array multidimensional, bastando para isso especificar o eixo desejado por meio do parâmetro *axis*.\n",
    "\n",
    "O valor 0 em axis representa colunas, ao passo que o valor 1 indica linhas.\n",
    "\n",
    "Como exemplo, vamos considerar uma tabela de valores bidimensional como a que segue:\n",
    "\n",
    "2 3 6\n",
    "3 5 7\n",
    "2 4 7\n",
    "2 7 8\n",
    "\n",
    "Desejamos conhecer o somatório de cada linha individual, e o valor médio de cada coluna. Para isso, faremos da seguinte forma:\n"
   ]
  },
  {
   "cell_type": "code",
   "execution_count": 3,
   "metadata": {},
   "outputs": [
    {
     "name": "stdout",
     "output_type": "stream",
     "text": [
      "[[2 3 6]\n",
      " [3 5 7]\n",
      " [2 4 7]\n",
      " [2 7 8]]\n",
      "[11 15 13 17]\n",
      "[2.25 4.75 7.  ]\n"
     ]
    }
   ],
   "source": [
    "import numpy as np\n",
    "\n",
    "matriz = np.array([[2,3,6],[3,5,7],[2,4,7],[2,7,8]])\n",
    "print(matriz)\n",
    "\n",
    "# Somatório de cada linha\n",
    "print(matriz.sum(axis=1))\n",
    "\n",
    "# Média aritmética de cada coluna\n",
    "print(matriz.mean(axis=0))"
   ]
  },
  {
   "cell_type": "markdown",
   "metadata": {},
   "source": [
    "## Calcular raiz Quadrada dos Elementos de um array\n",
    "\n",
    "Podemos calcular a raiz quadrada de cada elemento de um array usando uma função universal, que é aplicada a cada elemento individualmente.\n",
    "\n",
    "A função para cálculo de raiz quadrada é a função np.sqrt()\n",
    "\n",
    "Vamos ao exemplo."
   ]
  },
  {
   "cell_type": "code",
   "execution_count": 11,
   "metadata": {},
   "outputs": [
    {
     "name": "stdout",
     "output_type": "stream",
     "text": [
      "[ 10  15  20  25  30  35  40  45  50  55  60  65  70  75  80  85  90  95\n",
      " 100]\n",
      "[ 3.16227766  3.87298335  4.47213595  5.          5.47722558  5.91607978\n",
      "  6.32455532  6.70820393  7.07106781  7.41619849  7.74596669  8.06225775\n",
      "  8.36660027  8.66025404  8.94427191  9.21954446  9.48683298  9.74679434\n",
      " 10.        ]\n"
     ]
    }
   ],
   "source": [
    "# Calcular a raiz quadrada de cada elemento de um array\n",
    "\n",
    "import numpy as np\n",
    "\n",
    "valores = np.arange(10,101,5)  # números de 10 a 100, de 5 em 5\n",
    "print(valores)\n",
    "\n",
    "# Raiz de cada elemento do array:\n",
    "print(np.sqrt(valores))"
   ]
  },
  {
   "cell_type": "markdown",
   "metadata": {},
   "source": [
    "## Soma de arrays\n",
    "\n",
    "De forma análoga, podemos somar dois arrays de mesma dimensão usando uma função universal: a função np.add().\n",
    "\n",
    "Vejamos um exemplo."
   ]
  },
  {
   "cell_type": "code",
   "execution_count": 13,
   "metadata": {},
   "outputs": [
    {
     "name": "stdout",
     "output_type": "stream",
     "text": [
      "[10 11 12 13 14 15 16 17 18 19 20]\n",
      "[40 41 42 43 44 45 46 47 48 49 50]\n",
      "[50 52 54 56 58 60 62 64 66 68 70]\n"
     ]
    }
   ],
   "source": [
    "# Soma de arrays com função np.add()\n",
    "import numpy as np\n",
    "\n",
    "# Criar os dois arrays\n",
    "val1 = np.arange(10,21)\n",
    "print(val1)\n",
    "val2 = np.arange(40,51)\n",
    "print(val2)\n",
    "\n",
    "# Relizar a soma e exibir o resultado\n",
    "res = np.add(val1, val2)\n",
    "print(res)\n"
   ]
  },
  {
   "cell_type": "markdown",
   "metadata": {},
   "source": [
    "## Outras funções universais do NumPy\n",
    "\n",
    "A biblioteca NumPy possui diversas funções universais disponíveis. Algumas delas estão listadas a seguir:\n",
    "\n",
    "- Funções matemáticas: add, subtract, multiply, divide, remainder, exp, log, power\n",
    "- Funções trigonométricas: sin, cos, tan, hypot, arcsin, arccos, arctan\n",
    "- Manipulação de bits: bitwise_and, bitwise_or, bitwise_xor, invert, left_shift, right_shift\n",
    "- Comparação: greater, greater_equal, less, less_equal, equal, not_equal, logical_and, logical_or, logical_xor, logical_not, minimum, maximum\n",
    "- Ponto flutuante: floor, ceil, isinf, isnan, fabs, trunc\n"
   ]
  },
  {
   "cell_type": "markdown",
   "metadata": {},
   "source": [
    "## Indexação e Fatiamento de arrays\n",
    "\n",
    "Os índices de arrays iniciam sua contagem em 0, de modo que o primeiro elemento armazenado é o elemento de índice 0, o segundo elemento é o elemento de índice 1, e assim por diante."
   ]
  },
  {
   "cell_type": "code",
   "execution_count": 6,
   "metadata": {},
   "outputs": [
    {
     "name": "stdout",
     "output_type": "stream",
     "text": [
      "[ 2  5  8  0 12  9 11  5  7]\n",
      "2\n",
      "7\n",
      "[2 5 8]\n",
      "[ 8  0 12]\n",
      "[12  9 11  5  7]\n"
     ]
    }
   ],
   "source": [
    "# Indexação e fatiamento de arrays unidimensionais (inicia indexação de zero)\n",
    "\n",
    "import numpy as np\n",
    "\n",
    "valores = np.array([2,5,8,0,12,9,11,5,7])\n",
    "print(valores) # Mostra o array inteiro\n",
    "print(valores[0]) # Primeiro elemento do array (índice 0)\n",
    "print(valores[-1]) # Último elemento do array (índice -1)\n",
    "print(valores[:3]) # três primeiros elementos do array\n",
    "print(valores[2:5]) # do segundo ao quarto elemento (5 - 1), ou ainda, três elementos a partir do segundo (5 - 2)\n",
    "print(valores[4:]) # Do quarto elemento até o final do array"
   ]
  },
  {
   "cell_type": "code",
   "execution_count": 18,
   "metadata": {},
   "outputs": [
    {
     "name": "stdout",
     "output_type": "stream",
     "text": [
      "[[3 5 7]\n",
      " [1 0 5]\n",
      " [7 2 8]]\n",
      "3\n",
      "2\n",
      "[1 0 5]\n",
      "[[3 5 7]\n",
      " [1 0 5]]\n",
      "[[3 5 7]\n",
      " [7 2 8]]\n",
      "[5 0 2]\n",
      "[[5 7]\n",
      " [0 5]\n",
      " [2 8]]\n",
      "[[5 7]\n",
      " [0 5]\n",
      " [2 8]]\n"
     ]
    }
   ],
   "source": [
    "# Indexação e fatiamento de arrays bidimensionais (inicia indexação de zero)\n",
    "\n",
    "import numpy as np\n",
    "\n",
    "matriz = np.array([[3,5,7],[1,0,5],[7,2,8]])\n",
    "print(matriz)\n",
    "\n",
    "print(matriz[0,0]) # Mostrar elemento da primeira linha, primeira coluna\n",
    "print(matriz[2,1]) # Mostrar elemento da linha 2, coluna 1\n",
    "print(matriz[1]) # Linha 1 inteira \n",
    "print(matriz[0:2]) # Linhas 0 e 1\n",
    "print(matriz[[0,2]]) # Linhas 0 e 2 - usar lista de índices\n",
    "print(matriz[:,1]) # Coluna 1 inteira \n",
    "print(matriz[:,1:]) # Colunas 1 e 2 inteiras com fatiamento ou\n",
    "print(matriz[:,[1,2]]) # Colunas 1 e 2 inteiras usando lista de colunas"
   ]
  },
  {
   "cell_type": "markdown",
   "metadata": {},
   "source": [
    "## Copiar arrays: Shallow Copies (Views) e Deep Copies\n",
    "\n",
    "Um objeto do tipo view é um objeto que \"enxerga\" os dados em outros objetos, em vez de possuírem suas próprias cópias dos dados. Diversos métodos dos arrays e operações de fatiamento criam views dos dados dos arrays.\n",
    "\n",
    "O método view retorna um novo objeto array com uma visualização dos dados do array original (como um \"ponteiro\" para o array)"
   ]
  },
  {
   "cell_type": "code",
   "execution_count": 9,
   "metadata": {},
   "outputs": [
    {
     "name": "stdout",
     "output_type": "stream",
     "text": [
      "Array original: [ 1  3  5  7  9 11]\n",
      "Conteúdo da view: [ 1  3  5  7  9 11]\n",
      "Array:  89027728  View:  89029248\n",
      "\n",
      "Array original: [13  3  5  7  9 11]\n",
      "Conteúdo da view: [13  3  5  7  9 11]\n",
      "\n",
      "Array original: [13  3  5  7  9 21]\n",
      "Conteúdo da view: [13  3  5  7  9 21]\n"
     ]
    }
   ],
   "source": [
    "# Criar array e view do array\n",
    "import numpy as np\n",
    "\n",
    "valores = np.array([1,3,5,7,9,11])\n",
    "print('Array original:',valores)\n",
    "\n",
    "# Criar view\n",
    "valview = valores.view()\n",
    "print('Conteúdo da view:',valview)\n",
    "\n",
    "# Confirmar que os dois arrays são objetos diferentes com função id\n",
    "print('Array: ',id(valores),' View: ', id(valview))\n",
    "\n",
    "# Como ambos os objetos se referem ao mesmo conjunto de valores, se os dados forem modificados em um a modificação será vista pelo outro\n",
    "valores[0] = 13\n",
    "print('\\nArray original:',valores)\n",
    "print('Conteúdo da view:',valview)\n",
    "\n",
    "# De forma análoga:\n",
    "valview[5] = 21\n",
    "print('\\nArray original:',valores)\n",
    "print('Conteúdo da view:',valview)"
   ]
  },
  {
   "cell_type": "markdown",
   "metadata": {},
   "source": [
    "## Deep Copies\n",
    "\n",
    "Views são objetos de array separados, e por conta disso economizam memória ao compartilhar o mesmo conjunto de dados de outros arrays. \n",
    "\n",
    "Porém, ao compartilhar objetos mutáveis, às vezes precisamos criar uma deep copy, que consiste em um objeto array que é uma cópia de outro array, porém independente - sem fazer referência ao mesmo conjunto de dados, ams efetivamente copiando os dados de um array para outro. Uma aplicação de exemplo de deep copies é em programação multicore, na qual partes separadas de uma aplicação podem tentar modificar dados ao mesmo tempo, com o risco ed corromper dados.\n",
    "\n",
    "Uma deep copy é, assim, como se fosse uma espécie de \"backup de array\", por analogia.\n",
    "\n",
    "Para criar uma deep copy usamos o método de array copy."
   ]
  },
  {
   "cell_type": "code",
   "execution_count": 10,
   "metadata": {},
   "outputs": [
    {
     "name": "stdout",
     "output_type": "stream",
     "text": [
      "Array original: [ 1  3  5  7  9 11]\n",
      "Conteúdo da cópia: [ 1  3  5  7  9 11]\n",
      "Array:  89028128  Deep copy:  89029568\n",
      "\n",
      "Array original: [13  3  5  7  9 11]\n",
      "Conteúdo da cópia: [ 1  3  5  7  9 11]\n",
      "\n",
      "Array original: [13  3  5  7  9 11]\n",
      "Conteúdo da cópia: [ 1  3  5  7  9 21]\n"
     ]
    }
   ],
   "source": [
    "# Criar array e deep copy do array\n",
    "import numpy as np\n",
    "\n",
    "valores = np.array([1,3,5,7,9,11])\n",
    "print('Array original:',valores)\n",
    "\n",
    "# Criar cópia\n",
    "valview = valores.copy()\n",
    "print('Conteúdo da cópia:',valview)\n",
    "\n",
    "# Confirmar que os dois arrays são objetos diferentes com função id\n",
    "print('Array: ',id(valores),' Deep copy: ', id(valview))\n",
    "\n",
    "# Como ambos os objetos são separados, se os dados forem modificados em um a modificação não afetará o outro\n",
    "valores[0] = 13\n",
    "print('\\nArray original:',valores)\n",
    "print('Conteúdo da cópia:',valview)\n",
    "\n",
    "# De forma análoga:\n",
    "valview[5] = 21\n",
    "print('\\nArray original:',valores)\n",
    "print('Conteúdo da cópia:',valview)"
   ]
  },
  {
   "cell_type": "markdown",
   "metadata": {},
   "source": [
    "## Método reshape\n",
    "\n",
    "O método reshape retorna uma view (shallow copy) de um array com as suas dimensões alteradas. Por exemplo, podemos transformar um array bidimensional em um array unidimensional. O método reshape não modifica o array original."
   ]
  },
  {
   "cell_type": "code",
   "execution_count": 16,
   "metadata": {},
   "outputs": [
    {
     "name": "stdout",
     "output_type": "stream",
     "text": [
      "Array bidimensional original:\n",
      " [['A' 'B' 'C']\n",
      " ['H' 'I' 'J']\n",
      " ['X' 'Y' 'Z']]\n",
      "\n",
      "Reshape: [['A' 'B' 'C' 'H' 'I' 'J' 'X' 'Y' 'Z']]\n",
      "\n",
      "Array bidimensional original:\n",
      " [['A' 'B' 'C']\n",
      " ['H' 'I' 'J']\n",
      " ['X' 'Y' 'Z']]\n"
     ]
    }
   ],
   "source": [
    "# Método reshape - exemplo\n",
    "\n",
    "import numpy as np\n",
    "\n",
    "matriz = np.array([['A','B','C'],['H','I','J'],['X','Y','Z']])\n",
    "print('Array bidimensional original:\\n',matriz)\n",
    "\n",
    "# Aplicar método reshape, retornando a matriz como array unidimensional de 9 elementos\n",
    "print('\\nReshape:',matriz.reshape(1, 9))\n",
    "\n",
    "# Verificar que o array original permanece inalterado\n",
    "print('\\nArray bidimensional original:\\n',matriz)"
   ]
  },
  {
   "cell_type": "markdown",
   "metadata": {},
   "source": [
    "## Método resize\n",
    "\n",
    "De forma análoga ao método reshape, altera as dimensões de um array. Porém, o método resize altera as dimensões do array original. Por exemplo, podemos transformar um array bidimensional em um array unidimensional."
   ]
  },
  {
   "cell_type": "code",
   "execution_count": 19,
   "metadata": {},
   "outputs": [
    {
     "name": "stdout",
     "output_type": "stream",
     "text": [
      "Array bidimensional original:\n",
      " [['A' 'B' 'C']\n",
      " ['H' 'I' 'J']\n",
      " ['X' 'Y' 'Z']]\n",
      "\n",
      "Array bidimensional original:\n",
      " [['A' 'B' 'C' 'H' 'I' 'J' 'X' 'Y' 'Z']]\n"
     ]
    }
   ],
   "source": [
    "# Método resize - exemplo\n",
    "\n",
    "import numpy as np\n",
    "\n",
    "matriz = np.array([['A','B','C'],['H','I','J'],['X','Y','Z']])\n",
    "print('Array bidimensional original:\\n',matriz)\n",
    "\n",
    "# Aplicar método resize, transformando a matriz em array unidimensional de 9 elementos\n",
    "matriz.resize(1, 9) # Método não retorna valores, age diretamente sobre o array\n",
    "\n",
    "# Verificar que o array original foi alterado\n",
    "print('\\nArray bidimensional original:\\n',matriz)"
   ]
  },
  {
   "cell_type": "markdown",
   "metadata": {},
   "source": [
    "## Métodos flatten e ravel\n",
    "\n",
    "Podemos tomar um array multidimensional e \"achatá-lo\" em um array de uma dimensão usando os métodos **flatten** e **ravel**.\n",
    "\n",
    "O método flatten opera com deep copies (novo array independente)\n",
    "O método ravel opera com shallow copies (views)."
   ]
  },
  {
   "cell_type": "code",
   "execution_count": 38,
   "metadata": {
    "scrolled": true
   },
   "outputs": [
    {
     "name": "stdout",
     "output_type": "stream",
     "text": [
      "Array bidimensional original:\n",
      " [['A' 'B' 'C']\n",
      " ['H' 'I' 'J']\n",
      " ['P' 'Q' 'R']\n",
      " ['X' 'Y' 'Z']]\n",
      "\n",
      "Array achatado: ['A' 'B' 'C' 'H' 'I' 'J' 'P' 'Q' 'R' 'X' 'Y' 'Z']\n",
      "\n",
      "Array bidimensional original:\n",
      " [['A' 'B' 'C']\n",
      " ['H' 'I' 'J']\n",
      " ['P' 'Q' 'R']\n",
      " ['X' 'Y' 'Z']]\n",
      "\n",
      "Array bidimensional original:\n",
      " [['K' 'B' 'C']\n",
      " ['H' 'I' 'J']\n",
      " ['P' 'Q' 'R']\n",
      " ['X' 'Y' 'Z']]\n",
      "\n",
      "Array achatado: ['A' 'B' 'C' 'H' 'I' 'J' 'P' 'Q' 'R' 'X' 'Y' 'Z']\n"
     ]
    }
   ],
   "source": [
    "# Método flatten\n",
    "\n",
    "import numpy as np\n",
    "\n",
    "# Criar array bidimensional 4x3 de exemplo\n",
    "matriz = np.array([['A','B','C'],['H','I','J'],['P','Q','R'],['X','Y','Z']])\n",
    "print('Array bidimensional original:\\n',matriz)\n",
    "\n",
    "# Aplicar método flatten e criar array unidimensional independente\n",
    "achatadoF = matriz.flatten()\n",
    "\n",
    "# Visualizar array achatado e original\n",
    "print('\\nArray achatado:',achatadoF)\n",
    "print('\\nArray bidimensional original:\\n',matriz) # Array original não é alterado\n",
    "\n",
    "# Alterar dados no array original e verificar se são alterados no array achatado\n",
    "matriz[0,0] = 'K'\n",
    "print('\\nArray bidimensional original:\\n',matriz) # Dado na posição 0,0 alterado\n",
    "print('\\nArray achatado:',achatadoF) # Dados inalterados\n"
   ]
  },
  {
   "cell_type": "code",
   "execution_count": 39,
   "metadata": {
    "scrolled": true
   },
   "outputs": [
    {
     "name": "stdout",
     "output_type": "stream",
     "text": [
      "Array bidimensional original:\n",
      " [['A' 'B' 'C']\n",
      " ['H' 'I' 'J']\n",
      " ['P' 'Q' 'R']\n",
      " ['X' 'Y' 'Z']]\n",
      "\n",
      "Array achatado: ['A' 'B' 'C' 'H' 'I' 'J' 'P' 'Q' 'R' 'X' 'Y' 'Z']\n",
      "\n",
      "Array bidimensional original:\n",
      " [['A' 'B' 'C']\n",
      " ['H' 'I' 'J']\n",
      " ['P' 'Q' 'R']\n",
      " ['X' 'Y' 'Z']]\n",
      "\n",
      "Array bidimensional original:\n",
      " [['M' 'B' 'C']\n",
      " ['H' 'I' 'J']\n",
      " ['P' 'Q' 'R']\n",
      " ['X' 'Y' 'Z']]\n",
      "\n",
      "Array achatado: ['M' 'B' 'C' 'H' 'I' 'J' 'P' 'Q' 'R' 'X' 'Y' 'Z']\n"
     ]
    }
   ],
   "source": [
    "# Método ravel\n",
    "\n",
    "import numpy as np\n",
    "\n",
    "# Criar array bidimensional 4x3 de exemplo\n",
    "matriz = np.array([['A','B','C'],['H','I','J'],['P','Q','R'],['X','Y','Z']])\n",
    "print('Array bidimensional original:\\n',matriz)\n",
    "\n",
    "# Aplicar método ravel e criar array unidimensional do tipo view\n",
    "achatadoR = matriz.ravel()\n",
    "\n",
    "# Visualizar array achatado e original\n",
    "print('\\nArray achatado:',achatadoR)\n",
    "print('\\nArray bidimensional original:\\n',matriz) # Array original não é alterado\n",
    "\n",
    "# Alterar dados no array original e verificar se são alterados no array achatado\n",
    "matriz[0,0] = 'M'\n",
    "print('\\nArray bidimensional original:\\n',matriz) # Dado na posição 0,0 alterado\n",
    "print('\\nArray achatado:',achatadoR) # Dado \"alterado\""
   ]
  },
  {
   "cell_type": "markdown",
   "metadata": {},
   "source": [
    "## Transposição de linhas e colunas\n",
    "\n",
    "Transpor um array significa trocar suas linhas pelas colunas e vice-versa. Podemos transpor linhas e colunas de um array de forma fácil e rápida usando o atributo **T**, o qual retorna uma view transposta do array."
   ]
  },
  {
   "cell_type": "code",
   "execution_count": 22,
   "metadata": {},
   "outputs": [
    {
     "name": "stdout",
     "output_type": "stream",
     "text": [
      "Array bidimensional original:\n",
      " [['A' 'B' 'C']\n",
      " ['H' 'I' 'J']\n",
      " ['X' 'Y' 'Z']]\n",
      "\n",
      "Matriz transposta:\n",
      " [['A' 'H' 'X']\n",
      " ['B' 'I' 'Y']\n",
      " ['C' 'J' 'Z']]\n",
      "\n",
      "Array bidimensional original inalterado:\n",
      " [['A' 'B' 'C']\n",
      " ['H' 'I' 'J']\n",
      " ['X' 'Y' 'Z']]\n"
     ]
    }
   ],
   "source": [
    "# Transposição de arrays\n",
    "\n",
    "import numpy as np\n",
    "\n",
    "matriz = np.array([['A','B','C'],['H','I','J'],['X','Y','Z']])\n",
    "print('Array bidimensional original:\\n',matriz)\n",
    "\n",
    "# Efetuar transposição do array bidimensional\n",
    "matrizTrans = matriz.T\n",
    "\n",
    "print('\\nMatriz transposta:\\n',matrizTrans)\n",
    "\n",
    "# Array original não é afetado pela transposição:\n",
    "print('\\nArray bidimensional original inalterado:\\n',matriz)"
   ]
  },
  {
   "cell_type": "markdown",
   "metadata": {},
   "source": [
    "## Adicionar linhas e colunas a um array: Empilhamento\n",
    "\n",
    "Podemos combinar arrays adicionando mais linhas ou colunas, nos processos conhecidos como *empilhamento horizontal*  e *empilhamento vertical*, respectivamente.\n",
    "\n",
    "Para tal, empregados os métodos **np.hstack** (empilhamento horizontal) e **np.vstack** (empilhamento vertical).\n",
    "\n",
    "O empilhamento horizontal acrescenta \"colunas\" ao array, ao passo que o empilhamento vertical acrescenta \"linhas\" ao array."
   ]
  },
  {
   "cell_type": "code",
   "execution_count": 34,
   "metadata": {
    "scrolled": true
   },
   "outputs": [
    {
     "name": "stdout",
     "output_type": "stream",
     "text": [
      "Array original:\n",
      " ['A' 'B' 'C']\n",
      "\n",
      "Novos valores:\n",
      " ['E' 'F' 'G']\n",
      "\n",
      " [['A' 'B' 'C']\n",
      " ['E' 'F' 'G']]\n",
      "\n",
      " ['A' 'B' 'C' 'X' 'Y']\n"
     ]
    }
   ],
   "source": [
    "# Empilhamento de arrays\n",
    "\n",
    "import numpy as np\n",
    "\n",
    "# Criar array unidimensional\n",
    "valores = np.array(['A','B','C'])\n",
    "print('Array original:\\n',valores)\n",
    "\n",
    "# Array com dados a serem combinados com o array de valores\n",
    "maisValores = np.array(['E','F','G'])\n",
    "print('\\nNovos valores:\\n',maisValores)\n",
    "\n",
    "# Acrescentar uma linha ao array (criando um array bidimensional)\n",
    "dados = np.vstack((valores,maisValores)) # Parênteses internos: vstack espera receber apenas um argumento.\n",
    "print('\\n',dados)\n",
    "\n",
    "# Acrescentar mais colunas (elementos) ao array original\n",
    "maisValores2 = np.array(['X','Y'])\n",
    "print('\\n',np.hstack((valores,maisValores2))) # Parênteses internos: hstack espera receber apenas um argumento."
   ]
  },
  {
   "cell_type": "markdown",
   "metadata": {},
   "source": [
    "## Constantes NumPy"
   ]
  },
  {
   "cell_type": "code",
   "execution_count": 56,
   "metadata": {},
   "outputs": [
    {
     "name": "stdout",
     "output_type": "stream",
     "text": [
      "Constantes Científicas e Matemáticas do NumPy\n",
      "\n",
      "inf\n",
      "nan\n",
      "-inf\n",
      "-0.0\n",
      "0.0\n",
      "3.141592653589793\n",
      "2.718281828459045\n",
      "0.5772156649015329\n"
     ]
    }
   ],
   "source": [
    "# Constantes matemáticas e científicas no NumPy\n",
    "\n",
    "import numpy as np\n",
    "\n",
    "print('Constantes Científicas e Matemáticas do NumPy\\n')\n",
    "\n",
    "print(np.Inf)\n",
    "print(np.NAN)\n",
    "print(np.NINF)\n",
    "print(np.NZERO)\n",
    "print(np.PZERO)\n",
    "print(np.pi)\n",
    "print(np.e)\n",
    "print(np.euler_gamma)"
   ]
  },
  {
   "cell_type": "code",
   "execution_count": null,
   "metadata": {},
   "outputs": [],
   "source": []
  }
 ],
 "metadata": {
  "kernelspec": {
   "display_name": "Python 3",
   "language": "python",
   "name": "python3"
  },
  "language_info": {
   "codemirror_mode": {
    "name": "ipython",
    "version": 3
   },
   "file_extension": ".py",
   "mimetype": "text/x-python",
   "name": "python",
   "nbconvert_exporter": "python",
   "pygments_lexer": "ipython3",
   "version": "3.8.5"
  }
 },
 "nbformat": 4,
 "nbformat_minor": 2
}
