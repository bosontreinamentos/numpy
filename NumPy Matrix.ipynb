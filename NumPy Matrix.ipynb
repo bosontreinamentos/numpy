{
 "cells": [
  {
   "cell_type": "markdown",
   "metadata": {},
   "source": [
    "## Objeto Matrix - Matrizes\n",
    "\n",
    "Os objetos do tipo matrix (matriz) em NumPy herdam do objeto ndarray, sendo portanto uma subclasse e, assim, possuem os mesmos atributos e métodos que sua superclasse. São um array 2-D especializado.\n",
    "\n",
    "Porém, existem diferenças entre objetos matrix e arrays em NumPy:\n",
    "\n",
    "- Objetos matrix podem ser criados usando uma sintaxe no estilo Matlab, com espaços separando colunas e ponto-e-vírgula ; separando linhas\n",
    "- As matrizes são sempre bidimensionais, ao passo que os arrays podem ter n dimensões\n",
    "- A multiplicação de objetos matrix equivale à multiplicação matemática de matrizes, assim como a exponenciação, usando os operadores * e ** respectivamente.\n",
    "- Operações mistas entre matrizes e ndarrays sempre produzem matrizes\n",
    "- As matrizes possuem atributos especiais que facilitam determinados cálculos, tais como:\n",
    "    - matriz.T - Transposta\n",
    "    - matriz.H - Transposta Hermitiana\n",
    "    - matriz.I - Inversa\n",
    "    - martiz.A - array-base\n",
    "    \n",
    "Usamos comumente o nome mat como alias para matrizes no NumPy.\n",
    "\n",
    "Vamos criar matrizes de exemplo."
   ]
  },
  {
   "cell_type": "code",
   "execution_count": 6,
   "metadata": {
    "scrolled": true
   },
   "outputs": [
    {
     "name": "stdout",
     "output_type": "stream",
     "text": [
      "Matriz a:\n",
      " [[1 2 3]\n",
      " [4 5 6]]\n",
      "<class 'numpy.matrix'>\n",
      "\n",
      "Matriz b:\n",
      " [[1 2 3]\n",
      " [4 5 6]]\n",
      "<class 'numpy.matrix'>\n"
     ]
    }
   ],
   "source": [
    "# Criar uma matriz com o método matrix()\n",
    "\n",
    "import numpy as np\n",
    "\n",
    "# Estilo NumPy (Python)\n",
    "a = np.matrix([[1,2,3],[4,5,6]])\n",
    "\n",
    "# Estilo Matlab\n",
    "b = np.matrix('1 2 3 ; 4 5 6')\n",
    "\n",
    "print('Matriz a:\\n', a)\n",
    "print(type(a))\n",
    "\n",
    "print('\\nMatriz b:\\n', b)\n",
    "print(type(b))"
   ]
  },
  {
   "cell_type": "markdown",
   "metadata": {},
   "source": [
    "Vamos criar dois objetos: uma matriz e um ndarray com duas dimensões, e realizar multiplicações entre os objetos para comparar os resultados.\n",
    "M será a matriz, e A será o array, e ambo possuem exatamente os mesmos valores para comparação:"
   ]
  },
  {
   "cell_type": "code",
   "execution_count": 13,
   "metadata": {},
   "outputs": [
    {
     "name": "stdout",
     "output_type": "stream",
     "text": [
      "Matriz M:\n",
      " [[1 2]\n",
      " [4 5]]\n",
      "<class 'numpy.matrix'>\n",
      "\n",
      "Array A:\n",
      " [[1 2]\n",
      " [4 5]]\n",
      "<class 'numpy.ndarray'>\n",
      "\n",
      "Matriz M vezes matriz M:\n",
      "[[ 9 12]\n",
      " [24 33]]\n",
      "\n",
      "Matriz M vezes array A:\n",
      "[[ 9 12]\n",
      " [24 33]]\n",
      "\n",
      "Array A vezes array A:\n",
      "[[ 1  4]\n",
      " [16 25]]\n"
     ]
    }
   ],
   "source": [
    "import numpy as np\n",
    "\n",
    "# Criar Matriz\n",
    "M = np.matrix([[1,2],[4,5]])\n",
    "print('Matriz M:\\n', M)\n",
    "print(type(M))\n",
    "\n",
    "# Criar Array de duas dimensões\n",
    "A = np.array([[1,2],[4,5]])\n",
    "print('\\nArray A:\\n', A)\n",
    "print(type(A))\n",
    "\n",
    "# Efetuar as mutiplicações\n",
    "# 1. Matriz x Matriz:\n",
    "print('\\nMatriz M vezes matriz M:')\n",
    "print(M * M)\n",
    "\n",
    "# 2. Matriz x Array\n",
    "print('\\nMatriz M vezes array A:') # Resultado é matriz\n",
    "print(M * A)\n",
    "\n",
    "# 3. Array x Array\n",
    "print('\\nArray A vezes array A:')\n",
    "print(A * A)"
   ]
  },
  {
   "cell_type": "markdown",
   "metadata": {},
   "source": [
    "## Métodos de matrizes\n",
    "\n",
    "pg. 112 do NumPy Reference"
   ]
  }
 ],
 "metadata": {
  "kernelspec": {
   "display_name": "Python 3",
   "language": "python",
   "name": "python3"
  },
  "language_info": {
   "codemirror_mode": {
    "name": "ipython",
    "version": 3
   },
   "file_extension": ".py",
   "mimetype": "text/x-python",
   "name": "python",
   "nbconvert_exporter": "python",
   "pygments_lexer": "ipython3",
   "version": "3.8.5"
  }
 },
 "nbformat": 4,
 "nbformat_minor": 4
}
