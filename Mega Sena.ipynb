{
 "cells": [
  {
   "cell_type": "markdown",
   "metadata": {},
   "source": [
    "## Gerar números da Mega Sena\n",
    "\n",
    "\n"
   ]
  },
  {
   "cell_type": "code",
   "execution_count": null,
   "metadata": {},
   "outputs": [],
   "source": [
    "import numpy as np\n",
    "\n",
    "print(\"Entre com a quantidade de jogos a fazer:\")\n",
    "jogos = int(input())\n",
    "\n",
    "print(\"Você escolheu fazer {0} jogos.\".format(jogos))\n",
    "print(\"Pressione enter para prosseguir com a geração dos jogos.\")\n",
    "continua = input()\n",
    "\n",
    "megaSena = np.random.randint(1,60,size=(jogos,6))\n",
    "print(megaSena)"
   ]
  },
  {
   "cell_type": "code",
   "execution_count": 16,
   "metadata": {},
   "outputs": [
    {
     "name": "stdout",
     "output_type": "stream",
     "text": [
      "Entre com a quantidade de jogos a fazer:\n",
      "5\n",
      "Você escolheu fazer 5 jogos.\n",
      "Pressione enter para prosseguir com a geração dos jogos.\n",
      "\n",
      "[[ 3 27  9 24 36 51]\n",
      " [32 54  5 10 15 60]\n",
      " [26 53 34 26 18 55]\n",
      " [45 47 44 41  4 27]\n",
      " [12 36 41 51 11 35]]\n"
     ]
    }
   ],
   "source": [
    "# Sem repetição - resolvido\n",
    "\n",
    "import numpy as np\n",
    "\n",
    "conjunto = np.array([n for n in range(1,61)])\n",
    "#print(conjunto)\n",
    "\n",
    "print(\"Entre com a quantidade de jogos a fazer:\")\n",
    "jogos = int(input())\n",
    "\n",
    "print(\"Você escolheu fazer {0} jogos.\".format(jogos))\n",
    "print(\"Pressione enter para prosseguir com a geração dos jogos.\")\n",
    "continua = input()\n",
    "\n",
    "megaSena = np.random.choice(conjunto,size=(jogos,6)) # método choice recebe uma lista e retorna valores aleatórios da amostra, sem repetição.\n",
    "print(megaSena)"
   ]
  },
  {
   "cell_type": "markdown",
   "metadata": {},
   "source": [
    "Para gerar números não repetidos em cada jogo:\n",
    "https://stackoverflow.com/questions/8505651/non-repetitive-random-number-in-numpy\n",
    "e isso\n",
    "https://numpy.org/doc/stable/reference/random/index.html#random-quick-start\n",
    "e isso\n",
    "https://www.xspdf.com/resolution/52947746.html"
   ]
  }
 ],
 "metadata": {
  "kernelspec": {
   "display_name": "Python 3",
   "language": "python",
   "name": "python3"
  },
  "language_info": {
   "codemirror_mode": {
    "name": "ipython",
    "version": 3
   },
   "file_extension": ".py",
   "mimetype": "text/x-python",
   "name": "python",
   "nbconvert_exporter": "python",
   "pygments_lexer": "ipython3",
   "version": "3.8.5"
  }
 },
 "nbformat": 4,
 "nbformat_minor": 4
}
