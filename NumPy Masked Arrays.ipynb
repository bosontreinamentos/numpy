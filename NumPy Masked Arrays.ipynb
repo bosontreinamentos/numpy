{
 "cells": [
  {
   "cell_type": "markdown",
   "metadata": {},
   "source": [
    "## Masked Arrays\n",
    "\n",
    "Masked arrays são arrays que podem ter valores inválidos ou ausentes, criados com o módulo numpy.ma.\n",
    "\n",
    "Conjuntos de dados (datasets) podem estar incompletos por conta da presença de dados inválidos ou dados inexistentes. por exemplo, um sensor em uma aplicação IoT pode não ter registrado um dado em um momento especifico, ou o dado registrado pode ter sido corrompido. E isso pode causar problemas caso, por exemplo, seja necessário realizar cálculos com os dados obtidos, como somatório ou cálculo de valores estatísticos.\n",
    "Para resolver esse problema podemos empregar um masked array (array mascarado).\n",
    "Um masked array é uma combinação de um ndarray com uma máscara, sendo assim uma subclasse do objeto ndarray."
   ]
  },
  {
   "cell_type": "markdown",
   "metadata": {},
   "source": [
    "### Máscara\n",
    "\n",
    "Uma máscara pode ser:\n",
    "- nomask - Indica que nenhum valor do array associado é inválido; ou\n",
    "- Um array de booleanos que determina para cada elemento do array associado se o valor é válido ou não.\n",
    "\n",
    "Quando um elemento na máscara possui valor False (0), o elemento correspondente no array associado é válido. E quando um elemento da máscara possui valor True (1), o elemento correspondente no array é inválido. (está \"mascarado\").\n",
    "\n",
    "Ou seja, uma entrada True na máscara indica um dado inválido.\n",
    "\n",
    "Vamos a um exemplo."
   ]
  },
  {
   "cell_type": "code",
   "execution_count": 18,
   "metadata": {
    "scrolled": true
   },
   "outputs": [
    {
     "name": "stdout",
     "output_type": "stream",
     "text": [
      "Média aritmética do array com máscara:\n",
      "6.0\n",
      "\n",
      "Média aritmética do array a (sem máscara):\n",
      "6.166666666666667\n",
      "\n",
      "Média aritmética do array a com máscara aplicada:\n",
      "6.0\n",
      "\n",
      "[False False False  True False False]\n",
      "Dados:  [ 2  4  6  7  8 10]\n"
     ]
    }
   ],
   "source": [
    "# Usando Masked Arrays em NumPy\n",
    "\n",
    "import numpy as np\n",
    "import numpy.ma as ma\n",
    "\n",
    "# Criar um array com um valor considerado inválido (valor 7):\n",
    "a = np.array([2,4,6,7,8,10])\n",
    "\n",
    "# Suponha que a leitura do quarto elemento do array esteja incorreta. Podemos marcá-la com\n",
    "# um masked array usando o método masked_array() como segue (vamos criar o array mascarado a_mask):\n",
    "a_mask = ma.masked_array(a, mask=[0,0,0,1,0,0])\n",
    "\n",
    "# Com isso, podemos efetuar operações sobre o array mascarado sem levar em conta o valor inválido.\n",
    "# Por exemplo, vamos calcular a média aritmética dos valores do array mascarado:\n",
    "print('Média aritmética do array com máscara:')\n",
    "print(a_mask.mean())\n",
    "\n",
    "# Contraste o resultado obtido com o cálculo da média aritmética no array original (não-mascarado),\n",
    "# que inclui o valor inválido:\n",
    "print('\\nMédia aritmética do array a (sem máscara):')\n",
    "print(a.mean())\n",
    "\n",
    "# Opcionalmente, podemos criar diretamente o array já mascarado, usando o\n",
    "# método array do objeto masked array:\n",
    "a = ma.array([2,4,6,7,8,10], mask=[0,0,0,1,0,0])\n",
    "print('\\nMédia aritmética do array a com máscara aplicada:')\n",
    "print(a.mean())\n",
    "print()\n",
    "# Acessar a máscara aplicada com o atributo mask\n",
    "print(a.mask)\n",
    "\n",
    "# Retornar os dados no masked array com atributo data\n",
    "print('Dados: ',a.data)\n"
   ]
  },
  {
   "cell_type": "code",
   "execution_count": 4,
   "metadata": {
    "scrolled": true
   },
   "outputs": [
    {
     "name": "stdout",
     "output_type": "stream",
     "text": [
      "[[10 --]\n",
      " [20 --]]\n"
     ]
    },
    {
     "data": {
      "text/plain": [
       "array([[False,  True],\n",
       "       [False,  True]])"
      ]
     },
     "execution_count": 4,
     "metadata": {},
     "output_type": "execute_result"
    }
   ],
   "source": [
    "# Criar máscara em array bidimensional\n",
    "import numpy as np\n",
    "import numpy.ma as ma\n",
    "\n",
    "# criar array mascarado. Valores negativos são inválidos nesse exemplo\n",
    "M = ma.array([[10,-15],[20,-7]], mask=[[0,1],[0,1]])\n",
    "\n",
    "print(M)\n",
    "\n",
    "# Acessar a máscara aplicada\n",
    "M.mask"
   ]
  },
  {
   "cell_type": "markdown",
   "metadata": {},
   "source": [
    "## Modificar a máscara\n",
    "\n",
    "Podemos modificr uma máscara já criada por meio do valor masked.\n",
    "A forma recomendada para marcar uma ou mais entradas específicas em uma máscara (já criada ou não) é com o emprego do valor **masked**.\n",
    "\n",
    "Vamos a um exemplo."
   ]
  },
  {
   "cell_type": "code",
   "execution_count": 8,
   "metadata": {},
   "outputs": [
    {
     "name": "stdout",
     "output_type": "stream",
     "text": [
      "False\n",
      "Sem máscara:  ['a' 'b' '3' 'd']\n",
      "[False False  True False]\n",
      "Com máscara:  ['a' 'b' -- 'd']\n"
     ]
    }
   ],
   "source": [
    "M = ma.array(['a','b',3,'d'])\n",
    "# Valor 3 é inválido, na posição 2\n",
    "print(M.mask) # Retorna simplesmente False pois não há máscara aplicada nesse exemplo.\n",
    "print('Sem máscara: ', M)\n",
    "M[2] = ma.masked\n",
    "print(M.mask)\n",
    "print('Com máscara: ', M)"
   ]
  },
  {
   "cell_type": "markdown",
   "metadata": {},
   "source": [
    "CONTINUA NA PG. 198 do Numpy Reference."
   ]
  },
  {
   "cell_type": "code",
   "execution_count": 9,
   "metadata": {},
   "outputs": [
    {
     "name": "stdout",
     "output_type": "stream",
     "text": [
      "False\n",
      "Sem máscara:  ['a' 'b' '3' 'd']\n",
      "[False False  True False]\n",
      "Com máscara:  ['a' 'b' -- 'd']\n"
     ]
    }
   ],
   "source": [
    "# Outra forma de modificar uma máscara é atribuir a ela uma sequência de valores booleanos, por meio da propriedade mask:\n",
    "M = ma.array(['a','b',3,'d'])\n",
    "# Valor 3 é inválido, na posição 2\n",
    "print(M.mask) # Retorna simplesmente False pois não há máscara aplicada nesse exemplo.\n",
    "print('Sem máscara: ', M)\n",
    "M.mask = [0,0,1,0]\n",
    "print(M.mask)\n",
    "print('Com máscara: ', M)"
   ]
  },
  {
   "cell_type": "markdown",
   "metadata": {},
   "source": [
    "## Informar os valores inválidos ao criar a máscara\n",
    "\n",
    "Suponhamos que uma aplicação recebeu dados de um sensor - por exemplo 200 mil leituras - e sabemos que existem erros nessas leituras.\n",
    "Como faremos para criar uma máscara, se esses erros estão espalhados por esses 200 mil itens? É impraticável criar manualmente uma máscara para esses itens todos.\n",
    "Com o proceder nesse caso?\n",
    "Se os valores de erros forem valores padronizados, por exemplo sempre uma marcação com um número específico, então podemos passar esse valor para o masked array para ser usado como máscara.\n",
    "Por exemplo, digamos que sempre que aparece o número -1 se trata de um erro de leitura. Então, passamos o número -1 para o masked array; desta forma, sempre que aparecer o valor -1 no array original ele será tratado como valor inválido.\n",
    "\n",
    "Ou seja, em vez de informar que dados em posições específicas são ausentes ou inválidos, informamos que os dados com *valores* específicos é que são inválidos.\n",
    "\n",
    "Vejamos um exemplo."
   ]
  },
  {
   "cell_type": "code",
   "execution_count": 16,
   "metadata": {},
   "outputs": [
    {
     "name": "stdout",
     "output_type": "stream",
     "text": [
      "Dados lidos (com erros):\n",
      " [2, 5, -1, 7, 8, 3, -1, 9, 12, 15, -1, 3, 5, 7, 2, 3, -1, 2]\n",
      "\\Média dos valores com erros:  4.388888888888889\n",
      "\n",
      "Dados com erros marcados:\n",
      " [2 5 -- 7 8 3 -- 9 12 15 -- 3 5 7 2 3 -- 2]\n",
      "\\Média dos valores sem erros:  5.928571428571429\n"
     ]
    }
   ],
   "source": [
    "import numpy as np\n",
    "import numpy.ma as ma\n",
    "\n",
    "# Valor inválido nas leituras: -1\n",
    "leitura = [2,5,-1,7,8,3,-1,9,12,15,-1,3,5,7,2,3,-1,2]\n",
    "print('Dados lidos (com erros):\\n',leitura)\n",
    "print('\\Média dos valores com erros: ',np.mean(leitura))\n",
    "\n",
    "# Criar masked array informando que valores -1 são inválidos\n",
    "leituraM = ma.masked_values(leitura, -1)\n",
    "print('\\nDados com erros marcados:\\n',leituraM)\n",
    "print('\\Média dos valores sem erros: ',np.mean(leituraM))"
   ]
  },
  {
   "cell_type": "markdown",
   "metadata": {},
   "source": [
    "## Preecnher entradas inválidas\n",
    "\n",
    "Podemos preencher (ou substituir) os valores nas entradas inválidas em um masked array por um valor padrão por meio do método filled().\n",
    "\n",
    "Vamos a um exemplo."
   ]
  },
  {
   "cell_type": "code",
   "execution_count": 30,
   "metadata": {},
   "outputs": [
    {
     "name": "stdout",
     "output_type": "stream",
     "text": [
      "Dados com valores inválidos marcados:\n",
      " [2 5 -- 7 8 3 -- 9 12 15 -- 3 5 7 2 3 -- 2]\n",
      "Soma:  83\n",
      "\n",
      "Dados com valores inválidos preenchidos:\n",
      " [ 2  5  1  7  8  3  1  9 12 15  1  3  5  7  2  3  1  2]\n",
      "Soma:  87\n"
     ]
    }
   ],
   "source": [
    "# Preencher entradas inválidas com valor padrão\n",
    "\n",
    "import numpy as np\n",
    "import numpy.ma as ma\n",
    "\n",
    "N = [2,5,-1,7,8,3,-1,9,12,15,-1,3,5,7,2,3,-1,2]\n",
    "# O valor -1 é considerado inválido aqui. O correto deveria ser 1 (positivo). Vamos criar uma máscara para marcá-los:\n",
    "Nm = ma.masked_values(N, -1)\n",
    "print('Dados com valores inválidos marcados:\\n', Nm)\n",
    "# Vamos somar os valores do array para totalizá-lo:\n",
    "print('Soma: ',np.sum(Nm))\n",
    "\n",
    "# Vamos agora substituir os valores inválidos marcados por um (1):\n",
    "Nm = Nm.filled(1)\n",
    "print('\\nDados com valores inválidos preenchidos:\\n', Nm)\n",
    "\n",
    "# Podemos agora realizar uma operação como a soma (totalização) do array \n",
    "# com a aplicação dos valores preenchidos:\n",
    "print('Soma: ',np.sum(Nm))"
   ]
  },
  {
   "cell_type": "code",
   "execution_count": null,
   "metadata": {},
   "outputs": [],
   "source": []
  }
 ],
 "metadata": {
  "kernelspec": {
   "display_name": "Python 3",
   "language": "python",
   "name": "python3"
  },
  "language_info": {
   "codemirror_mode": {
    "name": "ipython",
    "version": 3
   },
   "file_extension": ".py",
   "mimetype": "text/x-python",
   "name": "python",
   "nbconvert_exporter": "python",
   "pygments_lexer": "ipython3",
   "version": "3.8.5"
  }
 },
 "nbformat": 4,
 "nbformat_minor": 4
}
