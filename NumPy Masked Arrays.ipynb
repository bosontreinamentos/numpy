{
 "cells": [
  {
   "cell_type": "markdown",
   "metadata": {},
   "source": [
    "## Masked Arrays\n",
    "\n",
    "Masked arrays são arrays que podem ter valores inválidos ou ausentes, criados com o módulo numpy.ma.\n",
    "\n",
    "Conjuntos de dados (datasets) podem estar incompletos por conta da presença de dados inválidos ou dados inexistentes. por exemplo, um sensor em uma aplicação IoT pode não ter registrado um dado em um momento especifico, ou o dado registrado pode ter sido corrompido. E isso pode causar problemas caso, por exemplo, seja necessário realizar cálculos com os dados obtidos, como somatório ou cálculo de valores estatísticos.\n",
    "Para resolver esse problema podemos empregar um masked array (array mascarado).\n",
    "Um masked array é uma combinação de um ndarray com uma máscara, sendo assim uma subclasse do objeto ndarray."
   ]
  },
  {
   "cell_type": "markdown",
   "metadata": {},
   "source": [
    "### Máscara\n",
    "\n",
    "Uma máscara pode ser:\n",
    "- nomask - Indica que nenhum valor do array associado é inválido; ou\n",
    "- Um array de booleanos que determina para cada elemento do array associado se o valor é válido ou não.\n",
    "\n",
    "Quando um elemento na máscara possui valor False (0), o elemento correspondente no array associado é válido. E quando um elemento da máscara possui valor True (1), o elemento correspondente no array é inválido. (está \"mascarado\").\n",
    "\n",
    "Vamos a um exemplo."
   ]
  },
  {
   "cell_type": "code",
   "execution_count": 1,
   "metadata": {},
   "outputs": [
    {
     "name": "stdout",
     "output_type": "stream",
     "text": [
      "Média aritmética do array com máscara:\n",
      "6.0\n",
      "\n",
      "Média aritmética do array a (sem máscara):\n",
      "6.166666666666667\n",
      "\n",
      "Média aritmética do array a com máscara aplicada:\n",
      "6.0\n"
     ]
    }
   ],
   "source": [
    "# Usando Masked Arrays em NumPy\n",
    "\n",
    "import numpy as np\n",
    "import numpy.ma as ma\n",
    "\n",
    "# Criar um array com um valor considerado inválido (valor 7):\n",
    "a = np.array([2,4,6,7,8,10])\n",
    "\n",
    "# Suponha que a leitura do quarto elemento do array esteja incorreta. Podemos marcá-la com\n",
    "# um masked array usando o método masked_array() como segue (vamos criar o array mascarado a_mask):\n",
    "a_mask = ma.masked_array(a, mask=[0,0,0,1,0,0])\n",
    "\n",
    "# Com isso, podemos efetuar operações sobre o array mascarado sem levar em conta o valor inválido.\n",
    "# Por exemplo, vamos calcular a média aritmética dos valores do array mascarado:\n",
    "print('Média aritmética do array com máscara:')\n",
    "print(a_mask.mean())\n",
    "\n",
    "# Contraste o resultado obtido com o cálculo da média aritmética no array original (não-mascarado),\n",
    "# que inclui o valor inválido:\n",
    "print('\\nMédia aritmética do array a (sem máscara):')\n",
    "print(a.mean())\n",
    "\n",
    "# Opcionalmente, podemos criar diretamente o array já mascarado, usando o\n",
    "# método array do objeto masked array:\n",
    "a = ma.array([2,4,6,7,8,10], mask=[0,0,0,1,0,0])\n",
    "print('\\nMédia aritmética do array a com máscara aplicada:')\n",
    "print(a.mean())\n",
    "\n"
   ]
  },
  {
   "cell_type": "markdown",
   "metadata": {},
   "source": [
    "CONTINUA NA PG. 198 do Numpy Reference."
   ]
  }
 ],
 "metadata": {
  "kernelspec": {
   "display_name": "Python 3",
   "language": "python",
   "name": "python3"
  },
  "language_info": {
   "codemirror_mode": {
    "name": "ipython",
    "version": 3
   },
   "file_extension": ".py",
   "mimetype": "text/x-python",
   "name": "python",
   "nbconvert_exporter": "python",
   "pygments_lexer": "ipython3",
   "version": "3.8.5"
  }
 },
 "nbformat": 4,
 "nbformat_minor": 4
}
